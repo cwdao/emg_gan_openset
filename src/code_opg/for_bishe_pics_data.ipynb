{
 "cells": [
  {
   "cell_type": "code",
   "execution_count": 4,
   "metadata": {},
   "outputs": [],
   "source": [
    "from sklearn.metrics import confusion_matrix\n",
    "import matplotlib.pyplot as plt\n",
    "import random\n"
   ]
  },
  {
   "attachments": {},
   "cell_type": "markdown",
   "metadata": {},
   "source": [
    "#### 绘制混淆矩阵"
   ]
  },
  {
   "cell_type": "code",
   "execution_count": 7,
   "metadata": {},
   "outputs": [
    {
     "name": "stdout",
     "output_type": "stream",
     "text": [
      "483\n",
      "483\n"
     ]
    }
   ],
   "source": [
    "# 设置每个类别的总数和准确率\n",
    "num_samples = [10, 20, 30, 40, 50, 60, 70, 80, 90, 10, 11, 12]\n",
    "accuracy = [0.9, 0.8, 0.7, 0.6, 0.5, 0.4, 0.6, 0.6, 0.6, 0.6, 0.6, 0.6]\n",
    "\n",
    "# 生成样本x和预测结果y\n",
    "x = []\n",
    "y = []\n",
    "for i in range(12):\n",
    "    for j in range(num_samples[i]):\n",
    "        x.append(i)\n",
    "        if random.random() < accuracy[i]:\n",
    "            y.append(i)\n",
    "        else:\n",
    "            y.append(random.choice([x for x in range(12) if x != i]))\n",
    "# 输出样本和预测结果的长度，用于检查是否生成正确\n",
    "print(len(x))\n",
    "print(len(y))"
   ]
  },
  {
   "cell_type": "code",
   "execution_count": 9,
   "metadata": {},
   "outputs": [
    {
     "data": {
      "image/png": "[encoded data removed]",
      "text/plain": [
       "<Figure size 288x288 with 2 Axes>"
      ]
     },
     "metadata": {
      "needs_background": "light"
     },
     "output_type": "display_data"
    }
   ],
   "source": [
    "from sklearn.metrics import confusion_matrix\n",
    "import matplotlib.pyplot as plt\n",
    "import numpy as np\n",
    "\n",
    "# 假设 y_true 和 y_pred 是两个长度为 n 的一维数组，存储了模型的真实标签和预测标签\n",
    "y_true = [0, 1, 2, 3, 4, 5, 6, 7, 8, 9, 10, 11]\n",
    "y_pred = [0, 1, 2, 3, 4, 5, 6, 7, 8, 9, 10, 11]\n",
    "\n",
    "y_true = x\n",
    "y_pred =y\n",
    "# 计算混淆矩阵\n",
    "cm = confusion_matrix(y_true, y_pred)\n",
    "\n",
    "# 可视化混淆矩阵\n",
    "plt.matshow(cm, cmap=plt.cm.Blues)\n",
    "plt.colorbar()\n",
    "for i in range(cm.shape[0]):\n",
    "    for j in range(cm.shape[1]):\n",
    "        plt.annotate(str(cm[i, j]), xy=(j, i), horizontalalignment='center', verticalalignment='center')\n",
    "plt.xticks(np.arange(cm.shape[0]), np.arange(cm.shape[0]))\n",
    "plt.yticks(np.arange(cm.shape[1]), np.arange(cm.shape[1]))\n",
    "plt.xlabel('Predicted label')\n",
    "plt.ylabel('True label')\n",
    "plt.show()\n"
   ]
  },
  {
   "cell_type": "code",
   "execution_count": null,
   "metadata": {},
   "outputs": [],
   "source": [
    "import random\n",
    "\n",
    "# 设置每个类别的样本总数和准确率\n",
    "class_num = 12\n",
    "class_size = [100] * class_num  # 每个类别的样本总数都设置为100\n",
    "class_acc = [1.0] * class_num   # 每个类别的准确率都初始化为1.0\n",
    "class_acc[0] = 0.7             # 第0类的准确率设置为0.7\n",
    "class_acc[1] = 0.8             # 第1类的准确率设置为0.8\n",
    "\n",
    "# 生成样本和预测结果\n",
    "x = []\n",
    "y = []\n",
    "for i in range(class_num):\n",
    "    for j in range(class_size[i]):\n",
    "        x.append(i)  # 样本是数字0-11\n",
    "        if i == 0:\n",
    "            if random.random() > class_acc[0]:  # 第0类的准确率为0.7\n",
    "                y.append(1)  # 第0类被误分类为第1类\n",
    "            else:\n",
    "                y.append(0)  # 第0类被正确分类为第0类\n",
    "        elif i == 1:\n",
    "            if random.random() > class_acc[1]:  # 第1类的准确率为0.8\n",
    "                y.append(0)  # 第1类被误分类为第0类\n",
    "            else:\n",
    "                y.append(1)  # 第1类被正确分类为第1类\n",
    "        else:\n",
    "            if random.random() > class_acc[i]:\n",
    "                y.append(random.choice([k for k in range(class_num) if k != i]))\n",
    "            else:\n",
    "                y.append(i)\n"
   ]
  },
  {
   "attachments": {},
   "cell_type": "markdown",
   "metadata": {},
   "source": [
    "修改已经生成的混淆矩阵数据"
   ]
  },
  {
   "cell_type": "code",
   "execution_count": null,
   "metadata": {},
   "outputs": [],
   "source": [
    "C = confusion_matrix(y_true, y_pred, labels=['0','1','2','3','4','5','6','7','8','9','A','B'])\n",
    "plt.matshow(C, cmap=plt.cm.Blues)\n",
    "plt.colorbar()\n",
    "\n",
    "for i in range(len(C)):\n",
    "    for j in range(len(C)):\n",
    "        if i == 1 and j == 2: # 修改(1,2)位置的数字\n",
    "            plt.annotate(\"New Value\", xy=(i, j), horizontalalignment='center', verticalalignment='center')\n",
    "        else:\n",
    "            plt.annotate(C[j, i], xy=(i, j), horizontalalignment='center', verticalalignment='center')\n",
    "\n",
    "plt.tick_params(labelsize=15)\n",
    "plt.ylabel('True label')\n",
    "plt.xlabel('Predicted label')\n",
    "plt.show()"
   ]
  }
 ],
 "metadata": {
  "kernelspec": {
   "display_name": "ml2",
   "language": "python",
   "name": "python3"
  },
  "language_info": {
   "codemirror_mode": {
    "name": "ipython",
    "version": 3
   },
   "file_extension": ".py",
   "mimetype": "text/x-python",
   "name": "python",
   "nbconvert_exporter": "python",
   "pygments_lexer": "ipython3",
   "version": "3.8.11"
  },
  "orig_nbformat": 4
 },
 "nbformat": 4,
 "nbformat_minor": 2
}

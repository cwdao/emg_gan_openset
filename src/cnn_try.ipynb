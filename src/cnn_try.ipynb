{
 "cells": [
  {
   "cell_type": "code",
   "execution_count": 1,
   "metadata": {},
   "outputs": [
    {
     "name": "stdout",
     "output_type": "stream",
     "text": [
      "tensor([[0.7311, 0.9625],\n",
      "        [0.7261, 0.4292]])\n",
      "True\n"
     ]
    }
   ],
   "source": [
    "import torch\n",
    "import torch.nn as nn\n",
    "import torchvision\n",
    "import torchvision.transforms as transforms\n",
    "import torch.nn.functional as F\n",
    "import torch.optim as optim\n",
    "import numpy as np\n",
    "import matplotlib.pyplot as plt\n",
    "import scipy.io as scio\n",
    "\n",
    "from torch.utils.data import Dataset, DataLoader\n",
    "from torchvision import transforms\n",
    "from torchsummary import summary\n",
    "\n",
    "x = torch.rand(2,2)\n",
    "print(x)\n",
    "print(torch.cuda.is_available())"
   ]
  },
  {
   "cell_type": "code",
   "execution_count": 2,
   "metadata": {},
   "outputs": [
    {
     "name": "stderr",
     "output_type": "stream",
     "text": [
      "C:\\Users\\cwdbo\\anaconda3\\envs\\ml2\\lib\\site-packages\\torchvision\\datasets\\mnist.py:498: UserWarning: The given NumPy array is not writeable, and PyTorch does not support non-writeable tensors. This means you can write to the underlying (supposedly non-writeable) NumPy array using the tensor. You may want to copy the array to protect its data or make it writeable before converting it to a tensor. This type of warning will be suppressed for the rest of this program. (Triggered internally at  ..\\torch\\csrc\\utils\\tensor_numpy.cpp:180.)\n",
      "  return torch.from_numpy(parsed.astype(m[2], copy=False)).view(*s)\n"
     ]
    }
   ],
   "source": [
    "train_set = torchvision.datasets.FashionMNIST(\n",
    "    root = './data/FashionMNIST'\n",
    "    ,train = True\n",
    "    ,download = True\n",
    "    ,transform = transforms.Compose([\n",
    "        transforms.ToTensor()\n",
    "    ])\n",
    ")"
   ]
  },
  {
   "cell_type": "code",
   "execution_count": 3,
   "metadata": {},
   "outputs": [],
   "source": [
    "train_loader = torch.utils.data.DataLoader(\n",
    "    train_set,batch_size = 1000\n",
    "    ,shuffle = True\n",
    ")"
   ]
  },
  {
   "cell_type": "code",
   "execution_count": 2,
   "metadata": {},
   "outputs": [],
   "source": [
    "import numpy as np\n",
    "import matplotlib.pyplot as plt\n",
    "\n",
    "torch.set_printoptions(linewidth=120)"
   ]
  },
  {
   "cell_type": "code",
   "execution_count": 5,
   "metadata": {},
   "outputs": [
    {
     "data": {
      "text/plain": [
       "tensor([9, 0, 0,  ..., 3, 0, 5])"
      ]
     },
     "execution_count": 5,
     "metadata": {},
     "output_type": "execute_result"
    }
   ],
   "source": [
    "train_set.targets"
   ]
  },
  {
   "cell_type": "code",
   "execution_count": 6,
   "metadata": {},
   "outputs": [
    {
     "name": "stdout",
     "output_type": "stream",
     "text": [
      "60000\n",
      "tensor([6000, 6000, 6000, 6000, 6000, 6000, 6000, 6000, 6000, 6000])\n"
     ]
    }
   ],
   "source": [
    "print(len(train_set))\n",
    "print(train_set.targets.bincount())"
   ]
  },
  {
   "cell_type": "code",
   "execution_count": 7,
   "metadata": {},
   "outputs": [
    {
     "name": "stdout",
     "output_type": "stream",
     "text": [
      "2 <class 'tuple'>\n"
     ]
    }
   ],
   "source": [
    "sample = next(iter(train_set))\n",
    "print(len(sample),type(sample))"
   ]
  },
  {
   "cell_type": "code",
   "execution_count": 8,
   "metadata": {},
   "outputs": [],
   "source": [
    "image,label = sample"
   ]
  },
  {
   "cell_type": "code",
   "execution_count": 9,
   "metadata": {},
   "outputs": [
    {
     "name": "stdout",
     "output_type": "stream",
     "text": [
      "torch.Size([1, 28, 28]) torch.Size([])\n"
     ]
    }
   ],
   "source": [
    "print(image.shape,torch.tensor(label).shape)"
   ]
  },
  {
   "cell_type": "code",
   "execution_count": 10,
   "metadata": {},
   "outputs": [
    {
     "name": "stdout",
     "output_type": "stream",
     "text": [
      "label: 9\n"
     ]
    },
    {
     "data": {
      "image/png": "[encoded data removed]",
      "text/plain": [
       "<Figure size 432x288 with 1 Axes>"
      ]
     },
     "metadata": {
      "needs_background": "light"
     },
     "output_type": "display_data"
    }
   ],
   "source": [
    "plt.imshow(image.squeeze(),cmap = 'gray')\n",
    "print('label:',label)"
   ]
  },
  {
   "cell_type": "code",
   "execution_count": 11,
   "metadata": {},
   "outputs": [
    {
     "name": "stdout",
     "output_type": "stream",
     "text": [
      "2 <class 'list'>\n"
     ]
    }
   ],
   "source": [
    "batch = next(iter(train_loader))\n",
    "print(len(batch),type(batch))\n",
    "images,labels = batch"
   ]
  },
  {
   "cell_type": "code",
   "execution_count": 12,
   "metadata": {},
   "outputs": [
    {
     "name": "stdout",
     "output_type": "stream",
     "text": [
      "torch.Size([1, 28, 28]) torch.Size([1000])\n"
     ]
    }
   ],
   "source": [
    "print(image.shape,labels.shape)"
   ]
  },
  {
   "cell_type": "code",
   "execution_count": 13,
   "metadata": {},
   "outputs": [
    {
     "name": "stdout",
     "output_type": "stream",
     "text": [
      "labels: tensor([9, 2, 0, 8, 3, 7, 9, 9, 3, 7, 4, 1, 7, 9, 0, 0, 0, 7, 2, 1, 1, 3, 2, 2, 5, 2, 6, 3, 2, 9, 2, 7, 7, 0, 3, 6, 2,\n",
      "        4, 7, 2, 3, 1, 8, 4, 8, 8, 1, 0, 8, 5, 3, 7, 6, 1, 6, 5, 5, 3, 0, 0, 8, 7, 4, 4, 5, 1, 6, 8, 7, 9, 2, 9, 3, 6,\n",
      "        6, 1, 5, 4, 5, 5, 6, 2, 7, 4, 9, 2, 6, 2, 0, 9, 7, 1, 0, 5, 6, 6, 9, 1, 8, 4, 9, 5, 7, 2, 4, 6, 1, 4, 4, 8, 0,\n",
      "        8, 7, 1, 1, 5, 0, 7, 6, 9, 5, 0, 6, 1, 4, 7, 1, 3, 5, 5, 5, 9, 2, 7, 7, 6, 8, 7, 5, 7, 7, 0, 5, 9, 9, 1, 5, 6,\n",
      "        5, 9, 7, 7, 0, 8, 9, 9, 6, 6, 7, 9, 8, 7, 6, 8, 4, 0, 7, 2, 3, 7, 1, 3, 8, 4, 1, 3, 7, 4, 9, 1, 1, 0, 4, 2, 6,\n",
      "        6, 7, 8, 8, 2, 2, 8, 0, 5, 4, 5, 9, 9, 4, 9, 1, 7, 2, 8, 2, 0, 3, 2, 1, 5, 8, 7, 2, 3, 5, 6, 7, 5, 6, 4, 4, 3,\n",
      "        9, 2, 1, 1, 6, 0, 7, 2, 1, 7, 6, 3, 4, 8, 2, 6, 6, 5, 4, 5, 6, 2, 1, 8, 9, 9, 5, 3, 5, 5, 3, 3, 9, 9, 3, 2, 6,\n",
      "        3, 6, 0, 2, 7, 0, 1, 7, 0, 9, 1, 8, 4, 8, 7, 6, 1, 5, 1, 9, 2, 9, 6, 0, 7, 7, 3, 2, 0, 2, 9, 8, 6, 4, 4, 4, 1,\n",
      "        1, 8, 6, 0, 4, 4, 6, 6, 1, 4, 3, 3, 3, 8, 0, 7, 9, 4, 4, 8, 3, 3, 9, 0, 6, 0, 2, 6, 3, 4, 8, 9, 5, 1, 4, 7, 1,\n",
      "        4, 2, 3, 9, 3, 2, 5, 6, 1, 5, 4, 0, 2, 0, 4, 5, 9, 1, 0, 0, 0, 2, 9, 3, 4, 7, 3, 3, 5, 6, 6, 3, 9, 1, 6, 3, 3,\n",
      "        1, 4, 2, 2, 1, 3, 7, 3, 4, 4, 4, 0, 7, 2, 8, 4, 6, 9, 7, 2, 4, 4, 2, 6, 6, 6, 2, 3, 9, 0, 4, 1, 0, 5, 9, 0, 2,\n",
      "        0, 3, 3, 5, 6, 7, 6, 0, 7, 2, 4, 3, 6, 2, 1, 5, 4, 9, 7, 4, 2, 9, 5, 8, 2, 9, 6, 2, 2, 3, 9, 8, 9, 1, 5, 3, 4,\n",
      "        5, 0, 0, 6, 7, 8, 6, 3, 7, 6, 4, 5, 0, 2, 4, 2, 4, 7, 8, 2, 9, 9, 7, 1, 4, 0, 4, 5, 5, 6, 3, 1, 7, 6, 1, 6, 9,\n",
      "        1, 3, 5, 1, 2, 2, 6, 8, 0, 8, 6, 9, 8, 4, 4, 9, 3, 7, 1, 7, 1, 0, 8, 5, 2, 2, 1, 5, 9, 3, 2, 8, 5, 5, 6, 7, 9,\n",
      "        0, 2, 0, 6, 4, 4, 5, 5, 2, 2, 7, 6, 4, 3, 0, 8, 5, 4, 9, 9, 6, 5, 7, 4, 5, 9, 1, 5, 4, 5, 7, 5, 5, 4, 6, 0, 6,\n",
      "        2, 6, 8, 1, 7, 8, 6, 5, 3, 5, 7, 2, 5, 5, 8, 5, 5, 7, 5, 2, 4, 0, 8, 6, 7, 7, 0, 4, 9, 4, 8, 2, 7, 1, 8, 9, 9,\n",
      "        3, 0, 8, 2, 1, 2, 3, 1, 0, 4, 7, 4, 8, 9, 7, 7, 4, 7, 7, 9, 0, 0, 0, 7, 0, 7, 4, 2, 3, 6, 5, 6, 6, 7, 6, 1, 3,\n",
      "        4, 4, 3, 6, 8, 8, 8, 3, 3, 4, 2, 6, 5, 4, 8, 5, 0, 6, 9, 3, 9, 8, 3, 6, 7, 6, 5, 7, 6, 2, 0, 5, 3, 7, 0, 8, 7,\n",
      "        0, 4, 9, 1, 3, 5, 8, 5, 2, 2, 7, 1, 3, 5, 7, 8, 8, 9, 2, 0, 0, 9, 8, 6, 1, 8, 5, 9, 9, 8, 0, 3, 6, 8, 4, 6, 8,\n",
      "        3, 8, 1, 3, 8, 2, 6, 3, 9, 9, 5, 2, 9, 8, 9, 2, 9, 9, 4, 2, 7, 2, 8, 4, 8, 0, 1, 6, 4, 5, 8, 7, 5, 4, 2, 5, 3,\n",
      "        2, 2, 8, 5, 8, 5, 2, 0, 0, 3, 8, 6, 3, 6, 7, 9, 9, 5, 4, 8, 7, 8, 2, 9, 6, 6, 9, 1, 2, 1, 4, 7, 8, 7, 7, 3, 7,\n",
      "        2, 9, 4, 6, 5, 6, 5, 6, 8, 3, 3, 2, 7, 3, 9, 6, 8, 4, 6, 7, 8, 2, 3, 7, 3, 2, 6, 3, 6, 8, 6, 8, 8, 0, 6, 5, 4,\n",
      "        8, 0, 7, 6, 0, 5, 5, 0, 1, 3, 9, 7, 4, 6, 6, 2, 0, 9, 7, 0, 6, 0, 3, 0, 1, 5, 4, 8, 6, 7, 5, 6, 4, 0, 7, 7, 8,\n",
      "        5, 6, 5, 7, 8, 3, 9, 2, 7, 3, 2, 7, 9, 0, 7, 8, 8, 6, 4, 9, 7, 2, 5, 7, 2, 0, 6, 5, 0, 6, 7, 1, 6, 4, 1, 5, 8,\n",
      "        6, 4, 8, 9, 5, 6, 5, 8, 7, 7, 7, 8, 1, 8, 5, 3, 6, 8, 4, 1, 6, 5, 7, 7, 2, 3, 3, 3, 5, 0, 6, 8, 9, 7, 5, 2, 5,\n",
      "        6, 4, 9, 5, 7, 3, 4, 7, 1, 9, 7, 1, 5, 3, 3, 7, 8, 5, 8, 0, 5, 2, 3, 4, 4, 7, 0, 5, 3, 7, 8, 6, 0, 0, 0, 4, 1,\n",
      "        0, 4, 7, 1, 0, 3, 8, 3, 8, 5, 5, 5, 5, 5, 3, 1, 9, 6, 9, 5, 1, 5, 0, 3, 7, 6, 2, 2, 0, 0, 5, 4, 5, 9, 5, 9, 4,\n",
      "        7])\n"
     ]
    },
    {
     "data": {
      "image/png": "[encoded data removed]",
      "text/plain": [
       "<Figure size 720x720 with 1 Axes>"
      ]
     },
     "metadata": {
      "needs_background": "light"
     },
     "output_type": "display_data"
    }
   ],
   "source": [
    "grid = torchvision.utils.make_grid(images, nrow=100)\n",
    "plt.figure(figsize=(10,10))\n",
    "plt.imshow(grid.permute(1,2,0))\n",
    "print('labels:', labels)"
   ]
  },
  {
   "cell_type": "code",
   "execution_count": 3,
   "metadata": {},
   "outputs": [],
   "source": [
    "import torch.nn as nn"
   ]
  },
  {
   "cell_type": "code",
   "execution_count": 15,
   "metadata": {},
   "outputs": [
    {
     "data": {
      "text/plain": [
       "Network(\n",
       "  (conv1): Conv2d(1, 6, kernel_size=(5, 5), stride=(1, 1))\n",
       "  (conv2): Conv2d(6, 12, kernel_size=(5, 5), stride=(1, 1))\n",
       "  (fc1): Linear(in_features=192, out_features=120, bias=True)\n",
       "  (fc2): Linear(in_features=120, out_features=60, bias=True)\n",
       "  (out): Linear(in_features=60, out_features=10, bias=True)\n",
       ")"
      ]
     },
     "execution_count": 15,
     "metadata": {},
     "output_type": "execute_result"
    }
   ],
   "source": [
    "class Network(nn.Module):\n",
    "    def __init__(self):\n",
    "        super(Network, self).__init__()\n",
    "        self.conv1 = nn.Conv2d(in_channels=1, out_channels=6, kernel_size=5)\n",
    "        self.conv2 = nn.Conv2d(in_channels=6, out_channels=12, kernel_size=5)\n",
    "        self.fc1 = nn.Linear(in_features=12*4*4, out_features=120)\n",
    "        self.fc2 = nn.Linear(in_features=120, out_features=60)\n",
    "        self.out = nn.Linear(in_features=60, out_features=10)\n",
    "   \n",
    "\n",
    "    def forward(self,t):\n",
    "# \n",
    "        return t\n",
    "\n",
    "network = Network()\n",
    "network"
   ]
  },
  {
   "cell_type": "code",
   "execution_count": 16,
   "metadata": {},
   "outputs": [],
   "source": [
    "import scipy.io as scio\n",
    "# datas = scio.loadmat('../Y_TrainP.mat')\n",
    "# print(datas['Y_TrainP'].shape)\n",
    "# datas1 = np.transpose(datas['X_Train'],[3,2,0,1])\n",
    "# print(datas1.shape)\n",
    "# print(datas1[0,0,:,:])\n",
    "# datas = scio.loadmat('../Y_TrainP.mat')\n",
    "# print(datas['Y_TrainP'].shape)\n",
    "# datas1 = np.transpose(datas['X_Train'],[3,2,0,1])\n",
    "# print(datas1.shape)\n",
    "# print(datas1[0,0,:,:])"
   ]
  },
  {
   "cell_type": "code",
   "execution_count": 17,
   "metadata": {},
   "outputs": [
    {
     "ename": "NameError",
     "evalue": "name 'datas1' is not defined",
     "output_type": "error",
     "traceback": [
      "\u001b[1;31m---------------------------------------------------------------------------\u001b[0m",
      "\u001b[1;31mNameError\u001b[0m                                 Traceback (most recent call last)",
      "\u001b[1;32m~\\AppData\\Local\\Temp/ipykernel_28356/2902399934.py\u001b[0m in \u001b[0;36m<module>\u001b[1;34m\u001b[0m\n\u001b[1;32m----> 1\u001b[1;33m \u001b[0mnp\u001b[0m\u001b[1;33m.\u001b[0m\u001b[0msave\u001b[0m\u001b[1;33m(\u001b[0m\u001b[1;34m'../data/trainX.npy'\u001b[0m\u001b[1;33m,\u001b[0m\u001b[0mdatas1\u001b[0m\u001b[1;33m)\u001b[0m\u001b[1;33m\u001b[0m\u001b[1;33m\u001b[0m\u001b[0m\n\u001b[0m",
      "\u001b[1;31mNameError\u001b[0m: name 'datas1' is not defined"
     ]
    }
   ],
   "source": [
    "np.save('../data/trainX.npy',datas1)"
   ]
  },
  {
   "cell_type": "code",
   "execution_count": null,
   "metadata": {},
   "outputs": [
    {
     "name": "stdout",
     "output_type": "stream",
     "text": [
      "2\n",
      "21520\n",
      "0\n",
      "0\n"
     ]
    }
   ],
   "source": [
    "# 1Ytrain-20210721T193346.mat\n",
    "datas = scio.loadmat('../data/Y_TrainP.mat')\n",
    "print(datas['Y_TrainP'].ndim)\n",
    "datalb = datas['Y_TrainP']\n",
    "print(len(datalb))\n",
    "print(datalb[1,0])\n",
    "emg1 = datalb[1,0]\n",
    "type(emg1)\n",
    "emg1.astype(np.float32)\n",
    "np.save('../data/trainY.npy',datalb)\n",
    "print(datalb[1,0])"
   ]
  },
  {
   "cell_type": "code",
   "execution_count": 6,
   "metadata": {},
   "outputs": [
    {
     "name": "stdout",
     "output_type": "stream",
     "text": [
      "(1, 40, 10)\n",
      "(40, 10)\n"
     ]
    }
   ],
   "source": [
    "tx = np.load('../data/trainX.npy')\n",
    "txp = tx[1,:,:,:]\n",
    "print(txp.shape)\n",
    "print(np.squeeze(txp).shape)"
   ]
  },
  {
   "cell_type": "code",
   "execution_count": 2,
   "metadata": {},
   "outputs": [
    {
     "name": "stdout",
     "output_type": "stream",
     "text": [
      "[ 0  0  0 ... 51 51 51]\n",
      "<class 'numpy.ndarray'>\n"
     ]
    }
   ],
   "source": [
    "from torch.utils.data import Dataset, DataLoader\n",
    "from torchvision import transforms\n",
    "from torchsummary import summary\n",
    "\n",
    "transform = transforms.Compose([\n",
    "    transforms.ToTensor(),  # 将图片转换为Tensor,归一化至[0,1]\n",
    "])\n",
    "\n",
    "class EMGDataset(Dataset):\n",
    " \n",
    "    def __init__(self, data, label):\n",
    "        self.data = data\n",
    "        self.label = label\n",
    "        self.transforms = transform\n",
    " \n",
    "    def __getitem__(self, index):\n",
    "        emgData = self.data[index,...]\n",
    "        emgData = np.squeeze(emgData)#似乎不应该压缩了\n",
    "        # emgData =emgData.unsqueeze(0)\n",
    "        # emglabel = self.label[index,0]\n",
    "\n",
    "        emglabel = self.label[index]\n",
    "        # while emglabel>=100:\n",
    "        #     emglabel = emglabel-100\n",
    "\n",
    "        emglabel = emglabel.astype(np.int16)\n",
    "        # emglabel = emglabel/1.0\n",
    "        emgData = self.transforms(emgData)\n",
    "        # emglabel = self.transforms(emglabel)#.long()\n",
    "        # self.data= emgData\n",
    "        # self.label = emglabel\n",
    "        \n",
    "        return emgData,emglabel\n",
    " \n",
    "    def __len__(self):\n",
    "        return len(self.label)\n",
    " \n",
    " \n",
    "# if __name__ == '__main__':\n",
    "traindata = np.load('../data/trainX.npy')\n",
    "trainlabel = np.load('../data/trainY.npy')\n",
    "print(trainlabel[:,0])\n",
    "\n",
    "trainlabel = trainlabel[:,0]\n",
    "print(type(trainlabel))\n",
    "train_set = EMGDataset(traindata, trainlabel)\n",
    "\n",
    "train_loader1 = torch.utils.data.DataLoader(train_set, batch_size=2, shuffle=True)#, pin_memory=True,\n",
    "                                            #num_workers=3)\n",
    "\n",
    "# for x, y in train_loader:\n",
    "#     print(x, y)\n",
    "sample = next(iter(train_set))\n",
    "# print(sample.shape)"
   ]
  },
  {
   "cell_type": "code",
   "execution_count": 19,
   "metadata": {},
   "outputs": [
    {
     "name": "stdout",
     "output_type": "stream",
     "text": [
      "torch.Size([2, 10, 1, 40])\n",
      "(21520, 1, 40, 10)\n",
      "<class 'numpy.ndarray'>\n",
      "(1, 40, 10)\n",
      "(1, 40, 10)\n"
     ]
    }
   ],
   "source": [
    "batch = next(iter(train_loader1))\n",
    "images, labels = batch\n",
    "print(images.shape)\n",
    "traindata = np.load('../data/trainX.npy')\n",
    "print(traindata.shape)\n",
    "print(type(traindata))\n",
    "print(traindata[1,:,:,:].shape)\n",
    "\n",
    "testX = iter(traindata)\n",
    "testXX = next(testX)\n",
    "print(testXX.shape)\n",
    "# images = images.to(torch.float32)"
   ]
  },
  {
   "cell_type": "code",
   "execution_count": 3,
   "metadata": {},
   "outputs": [
    {
     "name": "stdout",
     "output_type": "stream",
     "text": [
      "Network(\n",
      "  (conv1): Conv2d(1, 32, kernel_size=(3, 3), stride=(1, 1))\n",
      "  (conv2): Conv2d(32, 32, kernel_size=(3, 3), stride=(1, 1))\n",
      "  (conv3): Conv2d(32, 32, kernel_size=(3, 3), stride=(1, 1))\n",
      "  (fc1): Linear(in_features=4352, out_features=128, bias=True)\n",
      "  (out): Linear(in_features=128, out_features=52, bias=True)\n",
      ")\n",
      "----------------------------------------------------------------\n",
      "        Layer (type)               Output Shape         Param #\n",
      "================================================================\n",
      "            Conv2d-1             [1, 32, 38, 8]             320\n",
      "            Conv2d-2             [1, 32, 35, 5]           9,248\n",
      "            Linear-3                   [1, 128]         557,184\n",
      "            Linear-4                    [1, 52]           6,708\n",
      "================================================================\n",
      "Total params: 573,460\n",
      "Trainable params: 573,460\n",
      "Non-trainable params: 0\n",
      "----------------------------------------------------------------\n",
      "Input size (MB): 0.00\n",
      "Forward/backward pass size (MB): 0.12\n",
      "Params size (MB): 2.19\n",
      "Estimated Total Size (MB): 2.31\n",
      "----------------------------------------------------------------\n"
     ]
    }
   ],
   "source": [
    "import torch.nn.functional as F\n",
    "import torch.optim as optim\n",
    "\n",
    "def get_num_correct(preds, labels):\n",
    "    return preds.argmax(dim=1).eq(labels).sum().item()\n",
    "\n",
    "class Network(nn.Module):\n",
    "    def __init__(self):\n",
    "        super().__init__()\n",
    "        self.conv1 = nn.Conv2d(in_channels=1, out_channels=32, kernel_size=3)\n",
    "        self.conv2 = nn.Conv2d(in_channels=32, out_channels=32, kernel_size=3)\n",
    "        self.conv3 = nn.Conv2d(in_channels=32, out_channels=32, kernel_size=3)\n",
    "\n",
    "        self.fc1 = nn.Linear(in_features=32 * 4 * 34, out_features=128)\n",
    "        self.out = nn.Linear(in_features=128, out_features=52)\n",
    "\n",
    "    def forward(self, t):\n",
    "        # (1) input layer\n",
    "        t = t\n",
    "\n",
    "        # (2) hidden conv layer\n",
    "        t = self.conv1(t)\n",
    "        t = F.relu(t)\n",
    "        t = F.max_pool2d(t, kernel_size=2, stride=1)\n",
    "\n",
    "        # (3) hidden conv layer\n",
    "        t = self.conv2(t)\n",
    "        t = F.relu(t)\n",
    "        t = F.max_pool2d(t, kernel_size=2, stride=1)\n",
    "\n",
    "        # (4) hidden linear layer\n",
    "        t = t.reshape(-1, 32 * 4 * 34)\n",
    "        t = self.fc1(t)\n",
    "        t = F.relu(t)\n",
    "\n",
    "        # # (5) hidden linear layer\n",
    "        # t = self.fc2(t)\n",
    "        # t = F.relu(t)\n",
    "\n",
    "        # (6) output layer\n",
    "        t = self.out(t)\n",
    "        # t = F.softmax(t, dim=1)\n",
    "\n",
    "        return t\n",
    "        \n",
    "net = Network()\n",
    "print(net)\n",
    "summary(net,(1,40,10),batch_size = 1,device = \"cpu\")"
   ]
  },
  {
   "cell_type": "code",
   "execution_count": 4,
   "metadata": {},
   "outputs": [
    {
     "name": "stdout",
     "output_type": "stream",
     "text": [
      "loss1: 3.9702095985412598\n",
      "loss2: 3.9702095985412598\n"
     ]
    },
    {
     "ename": "NameError",
     "evalue": "name 'epoch' is not defined",
     "output_type": "error",
     "traceback": [
      "\u001b[1;31m---------------------------------------------------------------------------\u001b[0m",
      "\u001b[1;31mNameError\u001b[0m                                 Traceback (most recent call last)",
      "\u001b[1;32m~\\AppData\\Local\\Temp/ipykernel_23556/1762782331.py\u001b[0m in \u001b[0;36m<module>\u001b[1;34m\u001b[0m\n\u001b[0;32m     37\u001b[0m     \u001b[0mprint\u001b[0m\u001b[1;33m(\u001b[0m\u001b[1;34m'loss2:'\u001b[0m\u001b[1;33m,\u001b[0m \u001b[0mloss\u001b[0m\u001b[1;33m.\u001b[0m\u001b[0mitem\u001b[0m\u001b[1;33m(\u001b[0m\u001b[1;33m)\u001b[0m\u001b[1;33m)\u001b[0m\u001b[1;33m\u001b[0m\u001b[1;33m\u001b[0m\u001b[0m\n\u001b[0;32m     38\u001b[0m     print(\n\u001b[1;32m---> 39\u001b[1;33m     \u001b[1;34m\"epoch\"\u001b[0m\u001b[1;33m,\u001b[0m \u001b[0mepoch\u001b[0m\u001b[1;33m,\u001b[0m\u001b[1;33m\u001b[0m\u001b[1;33m\u001b[0m\u001b[0m\n\u001b[0m\u001b[0;32m     40\u001b[0m     \u001b[1;34m\"total_correct:\"\u001b[0m\u001b[1;33m,\u001b[0m \u001b[0mtotal_correct\u001b[0m\u001b[1;33m,\u001b[0m\u001b[1;33m\u001b[0m\u001b[1;33m\u001b[0m\u001b[0m\n\u001b[0;32m     41\u001b[0m     \"loss:\", total_loss)\n",
      "\u001b[1;31mNameError\u001b[0m: name 'epoch' is not defined"
     ]
    }
   ],
   "source": [
    "import torch.nn.functional as F\n",
    "import torch.optim as optim\n",
    "\n",
    "# train_set = EMGDataset(traindata, trainlabel)\n",
    " \n",
    "# train_loader = torch.utils.data.DataLoader(train_set, batch_size=10, shuffle=True, pin_memory=True,\n",
    "#                                                num_workers=3)\n",
    "train_loader = torch.utils.data.DataLoader(train_set, batch_size=1)\n",
    "optimizer = optim.Adam(net.parameters(), lr=0.01)\n",
    "\n",
    "batch = next(iter(train_loader)) # Get Batch\n",
    "images, labels = batch\n",
    "# print(images.shape)#的确是（1，1，40，40）真有意思\n",
    "for batch in train_loader:\n",
    "    images, labels = batch\n",
    "    images = images.to(torch.float32)\n",
    "    # labels = labels-6501\n",
    "    labels = labels.long()\n",
    "    labels\n",
    "    preds = net(images.to(torch.float32)) # Pass Batch\n",
    "\n",
    "    # preds.squeeze(0)\n",
    "    # print(preds)\n",
    "    # print(labels)\n",
    "    # print(preds.ndim,labels.ndim)\n",
    "\n",
    "    loss = F.cross_entropy(preds, labels) # Calculate Loss\n",
    "    # loss = F.cross_entropy(preds, torch.squeeze(labels)) # Calculate Loss\n",
    "\n",
    "    loss.backward() # Calculate Gradients\n",
    "    optimizer.step() # Update Weights\n",
    "\n",
    "    print('loss1:', loss.item())\n",
    "    preds = net(images)\n",
    "    # print(preds.shape)\n",
    "    # loss = F.cross_entropy(preds, torch.squeeze(labels))\n",
    "    print('loss2:', loss.item())\n",
    "    print(\n",
    "    \"epoch\", epoch, \n",
    "    \"total_correct:\", total_correct, \n",
    "    \"loss:\", total_loss)"
   ]
  },
  {
   "cell_type": "code",
   "execution_count": 11,
   "metadata": {},
   "outputs": [
    {
     "name": "stdout",
     "output_type": "stream",
     "text": [
      "epoch 0 current_correct: 440 loss: 16.392222970724106\n",
      "epoch 1 current_correct: 465 loss: 8.268952280282974\n",
      "epoch 2 current_correct: 464 loss: 6.96181982755661\n",
      "epoch 3 current_correct: 470 loss: 6.633197262883186\n",
      "epoch 4 current_correct: 464 loss: 6.538451135158539\n",
      "epoch 5 current_correct: 470 loss: 6.444520443677902\n",
      "epoch 6 current_correct: 472 loss: 6.372890308499336\n",
      "epoch 7 current_correct: 485 loss: 6.136444911360741\n",
      "epoch 8 current_correct: 461 loss: 5.969356194138527\n",
      "epoch 9 current_correct: 482 loss: 6.3235952109098434\n",
      "epoch 10 current_correct: 463 loss: 6.098628014326096\n",
      "epoch 11 current_correct: 466 loss: 5.478381350636482\n",
      "epoch 12 current_correct: 474 loss: 5.360449194908142\n",
      "epoch 13 current_correct: 484 loss: 5.361411958932877\n",
      "epoch 14 current_correct: 488 loss: 5.047990038990974\n",
      "epoch 15 current_correct: 492 loss: 4.771808788180351\n",
      "epoch 16 current_correct: 482 loss: 4.30732761323452\n",
      "epoch 17 current_correct: 484 loss: 4.49641227722168\n",
      "epoch 18 current_correct: 478 loss: 4.429194837808609\n",
      "epoch 19 current_correct: 481 loss: 4.1835034638643265\n",
      "epoch 20 current_correct: 484 loss: 4.068420454859734\n",
      "epoch 21 current_correct: 483 loss: 4.207028463482857\n",
      "epoch 22 current_correct: 494 loss: 3.8412842452526093\n",
      "epoch 23 current_correct: 487 loss: 3.666288360953331\n",
      "epoch 24 current_correct: 497 loss: 3.459759220480919\n",
      "epoch 25 current_correct: 488 loss: 3.312058463692665\n",
      "epoch 26 current_correct: 493 loss: 3.42178612947464\n",
      "epoch 27 current_correct: 488 loss: 3.423428125679493\n",
      "epoch 28 current_correct: 493 loss: 3.429526537656784\n",
      "epoch 29 current_correct: 493 loss: 3.2669160664081573\n",
      "epoch 30 current_correct: 508 loss: 2.876714549958706\n",
      "epoch 31 current_correct: 492 loss: 3.845402628183365\n",
      "epoch 32 current_correct: 490 loss: 3.2787933573126793\n",
      "epoch 33 current_correct: 500 loss: 2.6691960990428925\n",
      "epoch 34 current_correct: 502 loss: 2.57916758954525\n",
      "epoch 35 current_correct: 496 loss: 2.7563460618257523\n",
      "epoch 36 current_correct: 498 loss: 2.8554007932543755\n",
      "epoch 37 current_correct: 502 loss: 2.7114084511995316\n",
      "epoch 38 current_correct: 505 loss: 2.855591580271721\n",
      "epoch 39 current_correct: 497 loss: 2.6570200845599174\n",
      "epoch 40 current_correct: 505 loss: 2.432645596563816\n",
      "epoch 41 current_correct: 509 loss: 2.193008340895176\n",
      "epoch 42 current_correct: 507 loss: 2.003946617245674\n",
      "epoch 43 current_correct: 500 loss: 2.6574617326259613\n",
      "epoch 44 current_correct: 495 loss: 2.532257877290249\n",
      "epoch 45 current_correct: 505 loss: 2.484754331409931\n",
      "epoch 46 current_correct: 502 loss: 2.305459849536419\n",
      "epoch 47 current_correct: 502 loss: 2.2819024473428726\n",
      "epoch 48 current_correct: 500 loss: 2.2545090690255165\n",
      "epoch 49 current_correct: 502 loss: 2.056509919464588\n",
      "epoch 50 current_correct: 510 loss: 1.6495922952890396\n"
     ]
    },
    {
     "ename": "KeyboardInterrupt",
     "evalue": "",
     "output_type": "error",
     "traceback": [
      "\u001b[1;31m---------------------------------------------------------------------------\u001b[0m",
      "\u001b[1;31mKeyboardInterrupt\u001b[0m                         Traceback (most recent call last)",
      "\u001b[1;32m~\\AppData\\Local\\Temp/ipykernel_28028/2505165606.py\u001b[0m in \u001b[0;36m<module>\u001b[1;34m\u001b[0m\n\u001b[0;32m     47\u001b[0m         \u001b[1;31m# optimizer.step() # Update Weights\u001b[0m\u001b[1;33m\u001b[0m\u001b[1;33m\u001b[0m\u001b[1;33m\u001b[0m\u001b[0m\n\u001b[0;32m     48\u001b[0m \u001b[1;33m\u001b[0m\u001b[0m\n\u001b[1;32m---> 49\u001b[1;33m         \u001b[0mtotal_loss\u001b[0m \u001b[1;33m+=\u001b[0m \u001b[0mloss\u001b[0m\u001b[1;33m.\u001b[0m\u001b[0mitem\u001b[0m\u001b[1;33m(\u001b[0m\u001b[1;33m)\u001b[0m\u001b[1;33m\u001b[0m\u001b[1;33m\u001b[0m\u001b[0m\n\u001b[0m\u001b[0;32m     50\u001b[0m         \u001b[1;31m# total_correct += get_num_correct(preds.to(device), labels.to(device))\u001b[0m\u001b[1;33m\u001b[0m\u001b[1;33m\u001b[0m\u001b[1;33m\u001b[0m\u001b[0m\n\u001b[0;32m     51\u001b[0m         \u001b[0mcurr_total_correct\u001b[0m \u001b[1;33m=\u001b[0m \u001b[0mget_num_correct\u001b[0m\u001b[1;33m(\u001b[0m\u001b[0mpreds\u001b[0m\u001b[1;33m.\u001b[0m\u001b[0mto\u001b[0m\u001b[1;33m(\u001b[0m\u001b[0mdevice\u001b[0m\u001b[1;33m)\u001b[0m\u001b[1;33m,\u001b[0m \u001b[0mlabels\u001b[0m\u001b[1;33m.\u001b[0m\u001b[0mto\u001b[0m\u001b[1;33m(\u001b[0m\u001b[0mdevice\u001b[0m\u001b[1;33m)\u001b[0m\u001b[1;33m)\u001b[0m\u001b[1;33m\u001b[0m\u001b[1;33m\u001b[0m\u001b[0m\n",
      "\u001b[1;31mKeyboardInterrupt\u001b[0m: "
     ]
    }
   ],
   "source": [
    "# train_loader = torch.utils.data.DataLoader(train_set, batch_size=100)\n",
    "# optimizer = optim.Adam(network.parameters(), lr=0.01)\n",
    "device=torch.device(\"cuda:0\" if torch.cuda.is_available() else \"cpu\")\n",
    "# device = torch.device(\"cpu\")\n",
    "# curr_total_correct = {}\n",
    "net = net.to(device)\n",
    "# loss = loss.to(device)\n",
    "train_loader = torch.utils.data.DataLoader(train_set, batch_size=1000,shuffle=True)\n",
    "optimizer = optim.Adam(net.parameters(), lr=0.002)\n",
    "\n",
    "for epoch in range(1000):\n",
    "\n",
    "    total_loss = 0\n",
    "    total_correct = 0\n",
    "    curr_total_correct = 0\n",
    "\n",
    "    for batch in train_loader: # Get Batch\n",
    "        # batch = next(iter(train_loader)) # Get Batch\n",
    "        \n",
    "        images, labels = batch\n",
    "        images = images.to(torch.float32)\n",
    "        # labels = labels-6501\n",
    "        labels = labels.long()\n",
    "        labels\n",
    "        preds = net(images.to(device)) # Pass Batch\n",
    "\n",
    "        # preds.squeeze(0)\n",
    "        # print(preds)\n",
    "        # print(labels)\n",
    "        # print(preds.ndim,labels.ndim)\n",
    "\n",
    "        loss = F.cross_entropy(preds.to(device), labels.to(device)) # Calculate Loss\n",
    "        # loss = F.cross_entropy(preds, torch.squeeze(labels)) # Calculate Loss\n",
    "        optimizer.zero_grad()\n",
    "        loss.backward() # Calculate Gradients\n",
    "        optimizer.step() # Update Weights\n",
    "        \n",
    "        # images, labels = batch\n",
    "        # images = images.to(torch.float32)\n",
    "        # labels = labels.long()\n",
    "\n",
    "        # preds = network(images) # Pass Batch\n",
    "        # loss = F.cross_entropy(preds, labels) # Calculate Loss\n",
    "\n",
    "        # optimizer.zero_grad()\n",
    "        # loss.backward() # Calculate Gradients\n",
    "        # optimizer.step() # Update Weights\n",
    "\n",
    "        total_loss += loss.item()\n",
    "        # total_correct += get_num_correct(preds.to(device), labels.to(device))\n",
    "        curr_total_correct = get_num_correct(preds.to(device), labels.to(device))\n",
    "\n",
    "    print(\n",
    "        \"epoch\", epoch, \n",
    "        \"current_correct:\", curr_total_correct, \n",
    "        \"loss:\", total_loss\n",
    "    )\n",
    "torch.save(net.state_dict(),'./cnnet.pth')"
   ]
  }
 ],
 "metadata": {
  "kernelspec": {
   "display_name": "Python 3.8.11 ('ml2')",
   "language": "python",
   "name": "python3"
  },
  "language_info": {
   "codemirror_mode": {
    "name": "ipython",
    "version": 3
   },
   "file_extension": ".py",
   "mimetype": "text/x-python",
   "name": "python",
   "nbconvert_exporter": "python",
   "pygments_lexer": "ipython3",
   "version": "3.8.11"
  },
  "orig_nbformat": 4,
  "vscode": {
   "interpreter": {
    "hash": "97f3b3761d073a7e2fe7bca6198a06e63bb287dd409b57ec6cef0ba2122fdc4d"
   }
  }
 },
 "nbformat": 4,
 "nbformat_minor": 2
}

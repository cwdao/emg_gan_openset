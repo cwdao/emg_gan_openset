{
 "cells": [
  {
   "cell_type": "code",
   "execution_count": 2,
   "metadata": {},
   "outputs": [],
   "source": [
    "# coding=utf8\n",
    "import scipy.io as scio\n",
    "import numpy as np"
   ]
  },
  {
   "cell_type": "code",
   "execution_count": 3,
   "metadata": {},
   "outputs": [],
   "source": [
    "# 以下是mat转numpy用的，训练时不需要运行，在此注掉了\n",
    "# 'ktr_X','ktr_Y','kte_X','kte_Y','val_X','val_Y','dte_X','dte_Y'\n",
    "\n",
    "datas = scio.loadmat(\"../data/nina_db1/Fopgs2_multiset_20220611T161411.mat\")\n",
    "\n",
    "print(datas[\"ktr_X\"].shape)\n",
    "Xtrain = np.transpose(datas[\"ktr_X\"], [3, 2, 0, 1])\n",
    "Xtest = np.transpose(datas[\"kte_X\"], [3, 2, 0, 1])\n",
    "Xval = np.transpose(datas[\"val_X\"], [3, 2, 0, 1])\n",
    "Xdtest = np.transpose(datas[\"dte_X\"], [3, 2, 0, 1])\n",
    "print(Xtrain.shape, \"\\n\", Xtest.shape, \"\\n\", Xval.shape, \"\\n\", Xdtest.shape)\n",
    "# 标签\n",
    "# print(datas1[0,0,:,:])\n",
    "Ytrain = datas[\"ktr_Y\"]\n",
    "Ytest = datas[\"kte_Y\"]\n",
    "Yval = datas[\"val_Y\"]\n",
    "Ydtest = datas[\"dte_Y\"]\n",
    "print(Ytrain.shape, \"\\n\", Ytest.shape, \"\\n\", Yval.shape, \"\\n\", Ydtest.shape)\n",
    "print(Ytrain.shape, \"\\n\", len(Ytrain), Ytrain[1, 0])\n",
    "# print(len(datalb))\n",
    "# print(datas1[0,0,:,:])\n",
    "\n",
    "# print(datas['Y_TrainP'].ndim)\n",
    "# datalb = datas['Y_TrainP']\n",
    "# print(len(datalb))\n",
    "# print(datalb[1,0])\n",
    "# emg1 = datalb[1,0]\n",
    "# type(emg1)\n",
    "# emg1.astype(np.float32)\n",
    "# np.save('../data/trainY.npy',datalb)\n",
    "# print(datalb[1,0])\n",
    "dataset = {}\n",
    "dataset[\"Ytrain\"] = Ytrain\n",
    "dataset[\"Xtrain\"] = Xtrain\n",
    "dataset[\"Xtest\"] = Xtest\n",
    "dataset[\"Ytest\"] = Ytest\n",
    "dataset[\"Xval\"] = Xval\n",
    "dataset[\"Yval\"] = Yval\n",
    "dataset[\"Xdtest\"] = Xdtest\n",
    "dataset[\"Ydtest\"] = Ydtest\n",
    "np.save(\"../data/OpenganDataSet2213.npy\", dataset)"
   ]
  }
 ],
 "metadata": {
  "kernelspec": {
   "display_name": "Python 3.8.11 ('ml2')",
   "language": "python",
   "name": "python3"
  },
  "language_info": {
   "codemirror_mode": {
    "name": "ipython",
    "version": 3
   },
   "file_extension": ".py",
   "mimetype": "text/x-python",
   "name": "python",
   "nbconvert_exporter": "python",
   "pygments_lexer": "ipython3",
   "version": "3.8.11"
  },
  "orig_nbformat": 4,
  "vscode": {
   "interpreter": {
    "hash": "97f3b3761d073a7e2fe7bca6198a06e63bb287dd409b57ec6cef0ba2122fdc4d"
   }
  }
 },
 "nbformat": 4,
 "nbformat_minor": 2
}

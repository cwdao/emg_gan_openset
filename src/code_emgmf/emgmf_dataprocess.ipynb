{
 "cells": [
  {
   "cell_type": "code",
   "execution_count": 1,
   "metadata": {},
   "outputs": [],
   "source": [
    "#coding=utf8\n",
    "import scipy.io as scio\n",
    "import numpy as np"
   ]
  },
  {
   "cell_type": "markdown",
   "metadata": {},
   "source": [
    "## 原始代码"
   ]
  },
  {
   "cell_type": "code",
   "execution_count": 9,
   "metadata": {},
   "outputs": [],
   "source": [
    "# load data\n",
    "\n",
    "datas = scio.loadmat('../data/220319emgsk/withTrueTime/EMGSKdata-220426_s3f4.mat')\n",
    "data_cyc = datas['cyc']\n",
    "data_emg_rf_l = datas['emg_rf_l']\n",
    "data_emg_lh_l = datas['emg_lh_l']\n",
    "data_mf_rf_l = datas['mf_rf_l']\n",
    "data_mf_bm_l = datas['mf_bm_l']\n",
    "data_ka_l = datas['ka_l']\n",
    "data_time = datas['time']"
   ]
  },
  {
   "cell_type": "code",
   "execution_count": 10,
   "metadata": {},
   "outputs": [],
   "source": [
    "# def establish_kmmf_dataset_for_pytorch(data_X,data_X_2,data_Y,expect_time_length):\n",
    "#     dataset_X = []\n",
    "#     dataset_X_2 = []\n",
    "#     dataset_Y = []\n",
    "#     if expect_time_length >0:\n",
    "#         length = len(data_Y)-expect_time_length\n",
    "#         for i in range(length):\n",
    "#             dataset_X.append(data_X[i:i+expect_time_length,-6:])\n",
    "#             dataset_X_2.append(data_X_2[i:i+expect_time_length,-6:])\n",
    "#             dataset_Y.append(data_Y[i+expect_time_length-1,-6:])\n",
    "#     else:\n",
    "#         length = len(data_Y)\n",
    "#         for i in range(length):\n",
    "#             dataset_X.append(data_X[i,-6:])\n",
    "#             dataset_X_2.append(data_X_2[i,-6:])\n",
    "#             dataset_Y.append(data_Y[i,-6:])\n",
    "#     return dataset_X, dataset_X_2, dataset_Y\n",
    "\n",
    "# dx,dy = establish_kmmf_dataset_for_pytorch(data_Mv,data_MF,5)"
   ]
  },
  {
   "cell_type": "code",
   "execution_count": 11,
   "metadata": {},
   "outputs": [],
   "source": [
    "# dataset_Mv,dataset_K,dataset_MF = establish_kmmf_dataset_for_pytorch(data_Mv,data_K,data_MF,5)\n",
    "# 我试试换成1的，一次5组是不是时间可能对不上\n",
    "# dataset_Mv,dataset_K,dataset_MF = establish_kmmf_dataset_for_pytorch(data_Mv,data_K,data_MF,0)\n"
   ]
  },
  {
   "cell_type": "code",
   "execution_count": 5,
   "metadata": {},
   "outputs": [
    {
     "name": "stdout",
     "output_type": "stream",
     "text": [
      "(101, 1)\n",
      "(101, 1)\n",
      "(101, 1)\n"
     ]
    }
   ],
   "source": [
    "data_cyc = np.array(data_cyc)\n",
    "print(data_cyc.shape)\n",
    "data_emg_rf_l = np.array(data_emg_rf_l)\n",
    "print(data_emg_rf_l.shape)\n",
    "data_mf_bm_l = np.array(data_mf_bm_l)\n",
    "print(data_mf_bm_l.shape)"
   ]
  },
  {
   "cell_type": "code",
   "execution_count": 10,
   "metadata": {},
   "outputs": [],
   "source": [
    "dataset_kmmf = {}\n",
    "dataset_kmmf['data_cyc'] = data_cyc\n",
    "dataset_kmmf['data_emg_rf_l'] = data_emg_rf_l\n",
    "dataset_kmmf['data_emg_lh_l'] = data_emg_lh_l\n",
    "dataset_kmmf['data_mf_rf_l'] = data_mf_rf_l\n",
    "dataset_kmmf['data_mf_bm_l'] = data_mf_bm_l\n",
    "dataset_kmmf['data_ka_l'] = data_ka_l\n",
    "dataset_kmmf['data_time'] = data_time\n",
    "np.save('../data/220319emgsk/withTrueTime/EMGSKdata-220426_s3f4.npy',dataset_kmmf)"
   ]
  },
  {
   "cell_type": "markdown",
   "metadata": {},
   "source": [
    "## New Loss"
   ]
  },
  {
   "cell_type": "code",
   "execution_count": 8,
   "metadata": {},
   "outputs": [],
   "source": [
    "# load data\n",
    "# 'cyc','time','emg_rf_l','emg_lh_l','mf_rf_l',...\n",
    "    # 'mf_bm_l','ka_l','A_v','A_a'...\n",
    "    # ,'Ma','C_knee','Cv','G_theta','M_Arf','M_Abif'\n",
    "datas = scio.loadmat('../data/220319emgsk/withTrueTime/EMGSKdata-220323.mat')\n",
    "dataset_emgsk = {}\n",
    "dataset_emgsk['data_cyc'] = datas['cyc']\n",
    "dataset_emgsk['data_emg_rf_l'] = datas['emg_rf_l']\n",
    "dataset_emgsk['data_emg_lh_l'] = datas['emg_lh_l']\n",
    "dataset_emgsk['data_mf_rf_l'] = datas['mf_rf_l']\n",
    "dataset_emgsk['data_mf_bm_l'] = datas['mf_bm_l']\n",
    "dataset_emgsk['data_ka_l'] = datas['ka_l']\n",
    "dataset_emgsk['data_time'] = datas['time']\n",
    "dataset_emgsk['data_A_v'] = datas['A_v']\n",
    "dataset_emgsk['data_A_a'] = datas['A_a']\n",
    "dataset_emgsk['data_Ma'] = datas['Ma']\n",
    "dataset_emgsk['data_C_knee'] = datas['C_knee']\n",
    "dataset_emgsk['data_Cv'] = datas['Cv']\n",
    "dataset_emgsk['data_G_theta'] = datas['G_theta']\n",
    "dataset_emgsk['data_M_Arf'] = datas['M_Arf']\n",
    "dataset_emgsk['data_M_Abif'] = datas['M_Abif']"
   ]
  },
  {
   "cell_type": "code",
   "execution_count": null,
   "metadata": {},
   "outputs": [],
   "source": [
    "np.save('../data/220319emgsk/withTrueTime/EMGSKdata-220323.npy',dataset_emgsk)"
   ]
  },
  {
   "cell_type": "markdown",
   "metadata": {},
   "source": [
    "0409 新losss 所需数据"
   ]
  },
  {
   "cell_type": "code",
   "execution_count": 19,
   "metadata": {},
   "outputs": [],
   "source": [
    "datas = scio.loadmat('../data/WristDataForPINN-1/EMGSKdata-220426-slim_1200.mat')\n",
    "dataset_emgsk = {}\n",
    "dataset_emgsk['time'] = datas['time']\n",
    "dataset_emgsk['fcr'] = datas['fcr']\n",
    "dataset_emgsk['fcu'] = datas['fcu']\n",
    "dataset_emgsk['ecrl'] = datas['ecrl']\n",
    "dataset_emgsk['ecrb'] = datas['ecrb']\n",
    "dataset_emgsk['ecu'] = datas['ecu']\n",
    "dataset_emgsk['angle'] = datas['angle']\n",
    "dataset_emgsk['mf_fcr'] = datas['mf_fcr']\n",
    "dataset_emgsk['mf_fcu'] = datas['mf_fcu']\n",
    "dataset_emgsk['mf_ecrl'] = datas['mf_ecrl']\n",
    "dataset_emgsk['mf_ecrb'] = datas['mf_ecrb']\n",
    "dataset_emgsk['mf_ecu'] = datas['mf_ecu']\n"
   ]
  },
  {
   "cell_type": "code",
   "execution_count": 20,
   "metadata": {},
   "outputs": [],
   "source": [
    "np.save('../data/WristDataForPINN-1/EMGSKdata-220426-slim_1200.npy',dataset_emgsk)"
   ]
  }
 ],
 "metadata": {
  "kernelspec": {
   "display_name": "Python 3.9.6 ('torchlearn')",
   "language": "python",
   "name": "python3"
  },
  "language_info": {
   "codemirror_mode": {
    "name": "ipython",
    "version": 3
   },
   "file_extension": ".py",
   "mimetype": "text/x-python",
   "name": "python",
   "nbconvert_exporter": "python",
   "pygments_lexer": "ipython3",
   "version": "3.9.6 (default, Jul 30 2021, 11:42:22) [MSC v.1916 64 bit (AMD64)]"
  },
  "orig_nbformat": 4,
  "vscode": {
   "interpreter": {
    "hash": "696bc8a05a1eb808e62d18e9328544428937c8e11a4c703581cc2236b7d3d24e"
   }
  }
 },
 "nbformat": 4,
 "nbformat_minor": 2
}
